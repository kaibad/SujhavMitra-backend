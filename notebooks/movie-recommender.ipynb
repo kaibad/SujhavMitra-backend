{
 "cells": [
  {
   "cell_type": "markdown",
   "id": "a918789f",
   "metadata": {
    "id": "a918789f"
   },
   "source": [
    "# Movie Recommender"
   ]
  },
  {
   "cell_type": "code",
   "execution_count": 2,
   "id": "224c0435",
   "metadata": {
    "id": "224c0435"
   },
   "outputs": [],
   "source": [
    "import numpy as np\n",
    "import pandas as pd\n",
    "import matplotlib.pyplot as plt\n",
    "import ast"
   ]
  },
  {
   "cell_type": "code",
   "execution_count": 44,
   "id": "689a9ed6",
   "metadata": {
    "id": "689a9ed6"
   },
   "outputs": [],
   "source": [
    "movies=pd.read_csv(\"../datasets/movie/tmdb_5000_movies.csv\")\n",
    "credits=pd.read_csv(\"../datasets/movie/tmdb_5000_credits.csv\")"
   ]
  },
  {
   "cell_type": "code",
   "execution_count": 45,
   "id": "048f75d8",
   "metadata": {
    "id": "048f75d8",
    "outputId": "a663e9c5-5bda-4c1e-d87a-49c23931a0da"
   },
   "outputs": [
    {
     "data": {
      "text/html": [
       "<div>\n",
       "<style scoped>\n",
       "    .dataframe tbody tr th:only-of-type {\n",
       "        vertical-align: middle;\n",
       "    }\n",
       "\n",
       "    .dataframe tbody tr th {\n",
       "        vertical-align: top;\n",
       "    }\n",
       "\n",
       "    .dataframe thead th {\n",
       "        text-align: right;\n",
       "    }\n",
       "</style>\n",
       "<table border=\"1\" class=\"dataframe\">\n",
       "  <thead>\n",
       "    <tr style=\"text-align: right;\">\n",
       "      <th></th>\n",
       "      <th>budget</th>\n",
       "      <th>genres</th>\n",
       "      <th>homepage</th>\n",
       "      <th>id</th>\n",
       "      <th>keywords</th>\n",
       "      <th>original_language</th>\n",
       "      <th>original_title</th>\n",
       "      <th>overview</th>\n",
       "      <th>popularity</th>\n",
       "      <th>production_companies</th>\n",
       "      <th>production_countries</th>\n",
       "      <th>release_date</th>\n",
       "      <th>revenue</th>\n",
       "      <th>runtime</th>\n",
       "      <th>spoken_languages</th>\n",
       "      <th>status</th>\n",
       "      <th>tagline</th>\n",
       "      <th>title</th>\n",
       "      <th>vote_average</th>\n",
       "      <th>vote_count</th>\n",
       "    </tr>\n",
       "  </thead>\n",
       "  <tbody>\n",
       "    <tr>\n",
       "      <th>0</th>\n",
       "      <td>237000000</td>\n",
       "      <td>[{\"id\": 28, \"name\": \"Action\"}, {\"id\": 12, \"nam...</td>\n",
       "      <td>http://www.avatarmovie.com/</td>\n",
       "      <td>19995</td>\n",
       "      <td>[{\"id\": 1463, \"name\": \"culture clash\"}, {\"id\":...</td>\n",
       "      <td>en</td>\n",
       "      <td>Avatar</td>\n",
       "      <td>In the 22nd century, a paraplegic Marine is di...</td>\n",
       "      <td>150.437577</td>\n",
       "      <td>[{\"name\": \"Ingenious Film Partners\", \"id\": 289...</td>\n",
       "      <td>[{\"iso_3166_1\": \"US\", \"name\": \"United States o...</td>\n",
       "      <td>2009-12-10</td>\n",
       "      <td>2787965087</td>\n",
       "      <td>162.0</td>\n",
       "      <td>[{\"iso_639_1\": \"en\", \"name\": \"English\"}, {\"iso...</td>\n",
       "      <td>Released</td>\n",
       "      <td>Enter the World of Pandora.</td>\n",
       "      <td>Avatar</td>\n",
       "      <td>7.2</td>\n",
       "      <td>11800</td>\n",
       "    </tr>\n",
       "    <tr>\n",
       "      <th>1</th>\n",
       "      <td>300000000</td>\n",
       "      <td>[{\"id\": 12, \"name\": \"Adventure\"}, {\"id\": 14, \"...</td>\n",
       "      <td>http://disney.go.com/disneypictures/pirates/</td>\n",
       "      <td>285</td>\n",
       "      <td>[{\"id\": 270, \"name\": \"ocean\"}, {\"id\": 726, \"na...</td>\n",
       "      <td>en</td>\n",
       "      <td>Pirates of the Caribbean: At World's End</td>\n",
       "      <td>Captain Barbossa, long believed to be dead, ha...</td>\n",
       "      <td>139.082615</td>\n",
       "      <td>[{\"name\": \"Walt Disney Pictures\", \"id\": 2}, {\"...</td>\n",
       "      <td>[{\"iso_3166_1\": \"US\", \"name\": \"United States o...</td>\n",
       "      <td>2007-05-19</td>\n",
       "      <td>961000000</td>\n",
       "      <td>169.0</td>\n",
       "      <td>[{\"iso_639_1\": \"en\", \"name\": \"English\"}]</td>\n",
       "      <td>Released</td>\n",
       "      <td>At the end of the world, the adventure begins.</td>\n",
       "      <td>Pirates of the Caribbean: At World's End</td>\n",
       "      <td>6.9</td>\n",
       "      <td>4500</td>\n",
       "    </tr>\n",
       "    <tr>\n",
       "      <th>2</th>\n",
       "      <td>245000000</td>\n",
       "      <td>[{\"id\": 28, \"name\": \"Action\"}, {\"id\": 12, \"nam...</td>\n",
       "      <td>http://www.sonypictures.com/movies/spectre/</td>\n",
       "      <td>206647</td>\n",
       "      <td>[{\"id\": 470, \"name\": \"spy\"}, {\"id\": 818, \"name...</td>\n",
       "      <td>en</td>\n",
       "      <td>Spectre</td>\n",
       "      <td>A cryptic message from Bond’s past sends him o...</td>\n",
       "      <td>107.376788</td>\n",
       "      <td>[{\"name\": \"Columbia Pictures\", \"id\": 5}, {\"nam...</td>\n",
       "      <td>[{\"iso_3166_1\": \"GB\", \"name\": \"United Kingdom\"...</td>\n",
       "      <td>2015-10-26</td>\n",
       "      <td>880674609</td>\n",
       "      <td>148.0</td>\n",
       "      <td>[{\"iso_639_1\": \"fr\", \"name\": \"Fran\\u00e7ais\"},...</td>\n",
       "      <td>Released</td>\n",
       "      <td>A Plan No One Escapes</td>\n",
       "      <td>Spectre</td>\n",
       "      <td>6.3</td>\n",
       "      <td>4466</td>\n",
       "    </tr>\n",
       "    <tr>\n",
       "      <th>3</th>\n",
       "      <td>250000000</td>\n",
       "      <td>[{\"id\": 28, \"name\": \"Action\"}, {\"id\": 80, \"nam...</td>\n",
       "      <td>http://www.thedarkknightrises.com/</td>\n",
       "      <td>49026</td>\n",
       "      <td>[{\"id\": 849, \"name\": \"dc comics\"}, {\"id\": 853,...</td>\n",
       "      <td>en</td>\n",
       "      <td>The Dark Knight Rises</td>\n",
       "      <td>Following the death of District Attorney Harve...</td>\n",
       "      <td>112.312950</td>\n",
       "      <td>[{\"name\": \"Legendary Pictures\", \"id\": 923}, {\"...</td>\n",
       "      <td>[{\"iso_3166_1\": \"US\", \"name\": \"United States o...</td>\n",
       "      <td>2012-07-16</td>\n",
       "      <td>1084939099</td>\n",
       "      <td>165.0</td>\n",
       "      <td>[{\"iso_639_1\": \"en\", \"name\": \"English\"}]</td>\n",
       "      <td>Released</td>\n",
       "      <td>The Legend Ends</td>\n",
       "      <td>The Dark Knight Rises</td>\n",
       "      <td>7.6</td>\n",
       "      <td>9106</td>\n",
       "    </tr>\n",
       "    <tr>\n",
       "      <th>4</th>\n",
       "      <td>260000000</td>\n",
       "      <td>[{\"id\": 28, \"name\": \"Action\"}, {\"id\": 12, \"nam...</td>\n",
       "      <td>http://movies.disney.com/john-carter</td>\n",
       "      <td>49529</td>\n",
       "      <td>[{\"id\": 818, \"name\": \"based on novel\"}, {\"id\":...</td>\n",
       "      <td>en</td>\n",
       "      <td>John Carter</td>\n",
       "      <td>John Carter is a war-weary, former military ca...</td>\n",
       "      <td>43.926995</td>\n",
       "      <td>[{\"name\": \"Walt Disney Pictures\", \"id\": 2}]</td>\n",
       "      <td>[{\"iso_3166_1\": \"US\", \"name\": \"United States o...</td>\n",
       "      <td>2012-03-07</td>\n",
       "      <td>284139100</td>\n",
       "      <td>132.0</td>\n",
       "      <td>[{\"iso_639_1\": \"en\", \"name\": \"English\"}]</td>\n",
       "      <td>Released</td>\n",
       "      <td>Lost in our world, found in another.</td>\n",
       "      <td>John Carter</td>\n",
       "      <td>6.1</td>\n",
       "      <td>2124</td>\n",
       "    </tr>\n",
       "  </tbody>\n",
       "</table>\n",
       "</div>"
      ],
      "text/plain": [
       "      budget                                             genres  \\\n",
       "0  237000000  [{\"id\": 28, \"name\": \"Action\"}, {\"id\": 12, \"nam...   \n",
       "1  300000000  [{\"id\": 12, \"name\": \"Adventure\"}, {\"id\": 14, \"...   \n",
       "2  245000000  [{\"id\": 28, \"name\": \"Action\"}, {\"id\": 12, \"nam...   \n",
       "3  250000000  [{\"id\": 28, \"name\": \"Action\"}, {\"id\": 80, \"nam...   \n",
       "4  260000000  [{\"id\": 28, \"name\": \"Action\"}, {\"id\": 12, \"nam...   \n",
       "\n",
       "                                       homepage      id  \\\n",
       "0                   http://www.avatarmovie.com/   19995   \n",
       "1  http://disney.go.com/disneypictures/pirates/     285   \n",
       "2   http://www.sonypictures.com/movies/spectre/  206647   \n",
       "3            http://www.thedarkknightrises.com/   49026   \n",
       "4          http://movies.disney.com/john-carter   49529   \n",
       "\n",
       "                                            keywords original_language  \\\n",
       "0  [{\"id\": 1463, \"name\": \"culture clash\"}, {\"id\":...                en   \n",
       "1  [{\"id\": 270, \"name\": \"ocean\"}, {\"id\": 726, \"na...                en   \n",
       "2  [{\"id\": 470, \"name\": \"spy\"}, {\"id\": 818, \"name...                en   \n",
       "3  [{\"id\": 849, \"name\": \"dc comics\"}, {\"id\": 853,...                en   \n",
       "4  [{\"id\": 818, \"name\": \"based on novel\"}, {\"id\":...                en   \n",
       "\n",
       "                             original_title  \\\n",
       "0                                    Avatar   \n",
       "1  Pirates of the Caribbean: At World's End   \n",
       "2                                   Spectre   \n",
       "3                     The Dark Knight Rises   \n",
       "4                               John Carter   \n",
       "\n",
       "                                            overview  popularity  \\\n",
       "0  In the 22nd century, a paraplegic Marine is di...  150.437577   \n",
       "1  Captain Barbossa, long believed to be dead, ha...  139.082615   \n",
       "2  A cryptic message from Bond’s past sends him o...  107.376788   \n",
       "3  Following the death of District Attorney Harve...  112.312950   \n",
       "4  John Carter is a war-weary, former military ca...   43.926995   \n",
       "\n",
       "                                production_companies  \\\n",
       "0  [{\"name\": \"Ingenious Film Partners\", \"id\": 289...   \n",
       "1  [{\"name\": \"Walt Disney Pictures\", \"id\": 2}, {\"...   \n",
       "2  [{\"name\": \"Columbia Pictures\", \"id\": 5}, {\"nam...   \n",
       "3  [{\"name\": \"Legendary Pictures\", \"id\": 923}, {\"...   \n",
       "4        [{\"name\": \"Walt Disney Pictures\", \"id\": 2}]   \n",
       "\n",
       "                                production_countries release_date     revenue  \\\n",
       "0  [{\"iso_3166_1\": \"US\", \"name\": \"United States o...   2009-12-10  2787965087   \n",
       "1  [{\"iso_3166_1\": \"US\", \"name\": \"United States o...   2007-05-19   961000000   \n",
       "2  [{\"iso_3166_1\": \"GB\", \"name\": \"United Kingdom\"...   2015-10-26   880674609   \n",
       "3  [{\"iso_3166_1\": \"US\", \"name\": \"United States o...   2012-07-16  1084939099   \n",
       "4  [{\"iso_3166_1\": \"US\", \"name\": \"United States o...   2012-03-07   284139100   \n",
       "\n",
       "   runtime                                   spoken_languages    status  \\\n",
       "0    162.0  [{\"iso_639_1\": \"en\", \"name\": \"English\"}, {\"iso...  Released   \n",
       "1    169.0           [{\"iso_639_1\": \"en\", \"name\": \"English\"}]  Released   \n",
       "2    148.0  [{\"iso_639_1\": \"fr\", \"name\": \"Fran\\u00e7ais\"},...  Released   \n",
       "3    165.0           [{\"iso_639_1\": \"en\", \"name\": \"English\"}]  Released   \n",
       "4    132.0           [{\"iso_639_1\": \"en\", \"name\": \"English\"}]  Released   \n",
       "\n",
       "                                          tagline  \\\n",
       "0                     Enter the World of Pandora.   \n",
       "1  At the end of the world, the adventure begins.   \n",
       "2                           A Plan No One Escapes   \n",
       "3                                 The Legend Ends   \n",
       "4            Lost in our world, found in another.   \n",
       "\n",
       "                                      title  vote_average  vote_count  \n",
       "0                                    Avatar           7.2       11800  \n",
       "1  Pirates of the Caribbean: At World's End           6.9        4500  \n",
       "2                                   Spectre           6.3        4466  \n",
       "3                     The Dark Knight Rises           7.6        9106  \n",
       "4                               John Carter           6.1        2124  "
      ]
     },
     "execution_count": 45,
     "metadata": {},
     "output_type": "execute_result"
    }
   ],
   "source": [
    "movies.head(5)"
   ]
  },
  {
   "cell_type": "code",
   "execution_count": 5,
   "id": "ef6ba5c7",
   "metadata": {
    "id": "ef6ba5c7",
    "outputId": "edd52a1b-9f79-4178-e47a-48d1669dcc2e"
   },
   "outputs": [
    {
     "data": {
      "text/plain": [
       "(4803, 20)"
      ]
     },
     "execution_count": 5,
     "metadata": {},
     "output_type": "execute_result"
    }
   ],
   "source": [
    "movies.shape"
   ]
  },
  {
   "cell_type": "code",
   "execution_count": 6,
   "id": "0be527c5",
   "metadata": {
    "id": "0be527c5",
    "outputId": "947cc2ca-471e-4449-9a08-78f7c95b8c5b"
   },
   "outputs": [
    {
     "data": {
      "text/html": [
       "<div>\n",
       "<style scoped>\n",
       "    .dataframe tbody tr th:only-of-type {\n",
       "        vertical-align: middle;\n",
       "    }\n",
       "\n",
       "    .dataframe tbody tr th {\n",
       "        vertical-align: top;\n",
       "    }\n",
       "\n",
       "    .dataframe thead th {\n",
       "        text-align: right;\n",
       "    }\n",
       "</style>\n",
       "<table border=\"1\" class=\"dataframe\">\n",
       "  <thead>\n",
       "    <tr style=\"text-align: right;\">\n",
       "      <th></th>\n",
       "      <th>movie_id</th>\n",
       "      <th>title</th>\n",
       "      <th>cast</th>\n",
       "      <th>crew</th>\n",
       "    </tr>\n",
       "  </thead>\n",
       "  <tbody>\n",
       "    <tr>\n",
       "      <th>0</th>\n",
       "      <td>19995</td>\n",
       "      <td>Avatar</td>\n",
       "      <td>[{\"cast_id\": 242, \"character\": \"Jake Sully\", \"...</td>\n",
       "      <td>[{\"credit_id\": \"52fe48009251416c750aca23\", \"de...</td>\n",
       "    </tr>\n",
       "  </tbody>\n",
       "</table>\n",
       "</div>"
      ],
      "text/plain": [
       "   movie_id   title                                               cast  \\\n",
       "0     19995  Avatar  [{\"cast_id\": 242, \"character\": \"Jake Sully\", \"...   \n",
       "\n",
       "                                                crew  \n",
       "0  [{\"credit_id\": \"52fe48009251416c750aca23\", \"de...  "
      ]
     },
     "execution_count": 6,
     "metadata": {},
     "output_type": "execute_result"
    }
   ],
   "source": [
    "credits.head(1)"
   ]
  },
  {
   "cell_type": "code",
   "execution_count": 7,
   "id": "428ec938",
   "metadata": {
    "id": "428ec938",
    "outputId": "94cc2b82-c923-4f63-ba90-882819bfb46b"
   },
   "outputs": [
    {
     "data": {
      "text/plain": [
       "(4803, 4)"
      ]
     },
     "execution_count": 7,
     "metadata": {},
     "output_type": "execute_result"
    }
   ],
   "source": [
    "credits.shape"
   ]
  },
  {
   "cell_type": "markdown",
   "id": "86c0651c",
   "metadata": {
    "id": "86c0651c"
   },
   "source": [
    "### merge data"
   ]
  },
  {
   "cell_type": "code",
   "execution_count": 8,
   "id": "6a63be81",
   "metadata": {
    "id": "6a63be81",
    "outputId": "c8b0c447-f590-4da2-ebdd-723691b11007"
   },
   "outputs": [
    {
     "data": {
      "text/html": [
       "<div>\n",
       "<style scoped>\n",
       "    .dataframe tbody tr th:only-of-type {\n",
       "        vertical-align: middle;\n",
       "    }\n",
       "\n",
       "    .dataframe tbody tr th {\n",
       "        vertical-align: top;\n",
       "    }\n",
       "\n",
       "    .dataframe thead th {\n",
       "        text-align: right;\n",
       "    }\n",
       "</style>\n",
       "<table border=\"1\" class=\"dataframe\">\n",
       "  <thead>\n",
       "    <tr style=\"text-align: right;\">\n",
       "      <th></th>\n",
       "      <th>budget</th>\n",
       "      <th>genres</th>\n",
       "      <th>homepage</th>\n",
       "      <th>id</th>\n",
       "      <th>keywords</th>\n",
       "      <th>original_language</th>\n",
       "      <th>original_title</th>\n",
       "      <th>overview</th>\n",
       "      <th>popularity</th>\n",
       "      <th>production_companies</th>\n",
       "      <th>...</th>\n",
       "      <th>runtime</th>\n",
       "      <th>spoken_languages</th>\n",
       "      <th>status</th>\n",
       "      <th>tagline</th>\n",
       "      <th>title</th>\n",
       "      <th>vote_average</th>\n",
       "      <th>vote_count</th>\n",
       "      <th>movie_id</th>\n",
       "      <th>cast</th>\n",
       "      <th>crew</th>\n",
       "    </tr>\n",
       "  </thead>\n",
       "  <tbody>\n",
       "    <tr>\n",
       "      <th>0</th>\n",
       "      <td>237000000</td>\n",
       "      <td>[{\"id\": 28, \"name\": \"Action\"}, {\"id\": 12, \"nam...</td>\n",
       "      <td>http://www.avatarmovie.com/</td>\n",
       "      <td>19995</td>\n",
       "      <td>[{\"id\": 1463, \"name\": \"culture clash\"}, {\"id\":...</td>\n",
       "      <td>en</td>\n",
       "      <td>Avatar</td>\n",
       "      <td>In the 22nd century, a paraplegic Marine is di...</td>\n",
       "      <td>150.437577</td>\n",
       "      <td>[{\"name\": \"Ingenious Film Partners\", \"id\": 289...</td>\n",
       "      <td>...</td>\n",
       "      <td>162.0</td>\n",
       "      <td>[{\"iso_639_1\": \"en\", \"name\": \"English\"}, {\"iso...</td>\n",
       "      <td>Released</td>\n",
       "      <td>Enter the World of Pandora.</td>\n",
       "      <td>Avatar</td>\n",
       "      <td>7.2</td>\n",
       "      <td>11800</td>\n",
       "      <td>19995</td>\n",
       "      <td>[{\"cast_id\": 242, \"character\": \"Jake Sully\", \"...</td>\n",
       "      <td>[{\"credit_id\": \"52fe48009251416c750aca23\", \"de...</td>\n",
       "    </tr>\n",
       "  </tbody>\n",
       "</table>\n",
       "<p>1 rows × 23 columns</p>\n",
       "</div>"
      ],
      "text/plain": [
       "      budget                                             genres  \\\n",
       "0  237000000  [{\"id\": 28, \"name\": \"Action\"}, {\"id\": 12, \"nam...   \n",
       "\n",
       "                      homepage     id  \\\n",
       "0  http://www.avatarmovie.com/  19995   \n",
       "\n",
       "                                            keywords original_language  \\\n",
       "0  [{\"id\": 1463, \"name\": \"culture clash\"}, {\"id\":...                en   \n",
       "\n",
       "  original_title                                           overview  \\\n",
       "0         Avatar  In the 22nd century, a paraplegic Marine is di...   \n",
       "\n",
       "   popularity                               production_companies  ... runtime  \\\n",
       "0  150.437577  [{\"name\": \"Ingenious Film Partners\", \"id\": 289...  ...   162.0   \n",
       "\n",
       "                                    spoken_languages    status  \\\n",
       "0  [{\"iso_639_1\": \"en\", \"name\": \"English\"}, {\"iso...  Released   \n",
       "\n",
       "                       tagline   title vote_average vote_count movie_id  \\\n",
       "0  Enter the World of Pandora.  Avatar          7.2      11800    19995   \n",
       "\n",
       "                                                cast  \\\n",
       "0  [{\"cast_id\": 242, \"character\": \"Jake Sully\", \"...   \n",
       "\n",
       "                                                crew  \n",
       "0  [{\"credit_id\": \"52fe48009251416c750aca23\", \"de...  \n",
       "\n",
       "[1 rows x 23 columns]"
      ]
     },
     "execution_count": 8,
     "metadata": {},
     "output_type": "execute_result"
    }
   ],
   "source": [
    "movies=movies.merge(credits,on=\"title\")\n",
    "movies.head(1)"
   ]
  },
  {
   "cell_type": "markdown",
   "id": "0acb841b",
   "metadata": {
    "id": "0acb841b"
   },
   "source": [
    "### Keep only necessary columns\n"
   ]
  },
  {
   "cell_type": "code",
   "execution_count": 9,
   "id": "f760b21f",
   "metadata": {
    "id": "f760b21f",
    "outputId": "18a4aee1-a54a-4683-a87c-713fb2febc64"
   },
   "outputs": [
    {
     "data": {
      "text/html": [
       "<div>\n",
       "<style scoped>\n",
       "    .dataframe tbody tr th:only-of-type {\n",
       "        vertical-align: middle;\n",
       "    }\n",
       "\n",
       "    .dataframe tbody tr th {\n",
       "        vertical-align: top;\n",
       "    }\n",
       "\n",
       "    .dataframe thead th {\n",
       "        text-align: right;\n",
       "    }\n",
       "</style>\n",
       "<table border=\"1\" class=\"dataframe\">\n",
       "  <thead>\n",
       "    <tr style=\"text-align: right;\">\n",
       "      <th></th>\n",
       "      <th>movie_id</th>\n",
       "      <th>title</th>\n",
       "      <th>overview</th>\n",
       "      <th>genres</th>\n",
       "      <th>keywords</th>\n",
       "      <th>cast</th>\n",
       "      <th>crew</th>\n",
       "    </tr>\n",
       "  </thead>\n",
       "  <tbody>\n",
       "    <tr>\n",
       "      <th>0</th>\n",
       "      <td>19995</td>\n",
       "      <td>Avatar</td>\n",
       "      <td>In the 22nd century, a paraplegic Marine is di...</td>\n",
       "      <td>[{\"id\": 28, \"name\": \"Action\"}, {\"id\": 12, \"nam...</td>\n",
       "      <td>[{\"id\": 1463, \"name\": \"culture clash\"}, {\"id\":...</td>\n",
       "      <td>[{\"cast_id\": 242, \"character\": \"Jake Sully\", \"...</td>\n",
       "      <td>[{\"credit_id\": \"52fe48009251416c750aca23\", \"de...</td>\n",
       "    </tr>\n",
       "  </tbody>\n",
       "</table>\n",
       "</div>"
      ],
      "text/plain": [
       "   movie_id   title                                           overview  \\\n",
       "0     19995  Avatar  In the 22nd century, a paraplegic Marine is di...   \n",
       "\n",
       "                                              genres  \\\n",
       "0  [{\"id\": 28, \"name\": \"Action\"}, {\"id\": 12, \"nam...   \n",
       "\n",
       "                                            keywords  \\\n",
       "0  [{\"id\": 1463, \"name\": \"culture clash\"}, {\"id\":...   \n",
       "\n",
       "                                                cast  \\\n",
       "0  [{\"cast_id\": 242, \"character\": \"Jake Sully\", \"...   \n",
       "\n",
       "                                                crew  \n",
       "0  [{\"credit_id\": \"52fe48009251416c750aca23\", \"de...  "
      ]
     },
     "execution_count": 9,
     "metadata": {},
     "output_type": "execute_result"
    }
   ],
   "source": [
    "movies = movies[['movie_id', 'title', 'overview', 'genres', 'keywords', 'cast', 'crew']]\n",
    "movies.dropna(inplace=True)\n",
    "movies.head(1)"
   ]
  },
  {
   "cell_type": "markdown",
   "id": "1e5c37c6",
   "metadata": {
    "id": "1e5c37c6"
   },
   "source": [
    "## Functions to process complex columns"
   ]
  },
  {
   "cell_type": "code",
   "execution_count": 10,
   "id": "30e4806c",
   "metadata": {
    "id": "30e4806c"
   },
   "outputs": [],
   "source": [
    "def convert(obj):\n",
    "    names = []\n",
    "    try:\n",
    "        for i in ast.literal_eval(obj):\n",
    "            names.append(i['name'])\n",
    "    except (ValueError, SyntaxError):\n",
    "        pass  # skip this row\n",
    "    return names\n"
   ]
  },
  {
   "cell_type": "code",
   "execution_count": 11,
   "id": "3e87e87f",
   "metadata": {
    "id": "3e87e87f",
    "outputId": "bdf37c79-8c7c-4402-a68b-7236ab61b97a"
   },
   "outputs": [
    {
     "data": {
      "text/plain": [
       "'[{\"id\": 28, \"name\": \"Action\"}, {\"id\": 12, \"name\": \"Adventure\"}, {\"id\": 14, \"name\": \"Fantasy\"}, {\"id\": 878, \"name\": \"Science Fiction\"}]'"
      ]
     },
     "execution_count": 11,
     "metadata": {},
     "output_type": "execute_result"
    }
   ],
   "source": [
    "movies.iloc[0].genres"
   ]
  },
  {
   "cell_type": "code",
   "execution_count": 12,
   "id": "bec7e547",
   "metadata": {
    "id": "bec7e547"
   },
   "outputs": [],
   "source": [
    "movies['genres']= movies['genres'].apply(convert)\n",
    "movies['keywords'] = movies['keywords'].apply(convert)\n"
   ]
  },
  {
   "cell_type": "code",
   "execution_count": 13,
   "id": "d755cda9",
   "metadata": {
    "id": "d755cda9",
    "outputId": "7ce5d11e-91a9-490e-e88c-878d59698641"
   },
   "outputs": [
    {
     "data": {
      "text/html": [
       "<div>\n",
       "<style scoped>\n",
       "    .dataframe tbody tr th:only-of-type {\n",
       "        vertical-align: middle;\n",
       "    }\n",
       "\n",
       "    .dataframe tbody tr th {\n",
       "        vertical-align: top;\n",
       "    }\n",
       "\n",
       "    .dataframe thead th {\n",
       "        text-align: right;\n",
       "    }\n",
       "</style>\n",
       "<table border=\"1\" class=\"dataframe\">\n",
       "  <thead>\n",
       "    <tr style=\"text-align: right;\">\n",
       "      <th></th>\n",
       "      <th>movie_id</th>\n",
       "      <th>title</th>\n",
       "      <th>overview</th>\n",
       "      <th>genres</th>\n",
       "      <th>keywords</th>\n",
       "      <th>cast</th>\n",
       "      <th>crew</th>\n",
       "    </tr>\n",
       "  </thead>\n",
       "  <tbody>\n",
       "    <tr>\n",
       "      <th>0</th>\n",
       "      <td>19995</td>\n",
       "      <td>Avatar</td>\n",
       "      <td>In the 22nd century, a paraplegic Marine is di...</td>\n",
       "      <td>[Action, Adventure, Fantasy, Science Fiction]</td>\n",
       "      <td>[culture clash, future, space war, space colon...</td>\n",
       "      <td>[{\"cast_id\": 242, \"character\": \"Jake Sully\", \"...</td>\n",
       "      <td>[{\"credit_id\": \"52fe48009251416c750aca23\", \"de...</td>\n",
       "    </tr>\n",
       "  </tbody>\n",
       "</table>\n",
       "</div>"
      ],
      "text/plain": [
       "   movie_id   title                                           overview  \\\n",
       "0     19995  Avatar  In the 22nd century, a paraplegic Marine is di...   \n",
       "\n",
       "                                          genres  \\\n",
       "0  [Action, Adventure, Fantasy, Science Fiction]   \n",
       "\n",
       "                                            keywords  \\\n",
       "0  [culture clash, future, space war, space colon...   \n",
       "\n",
       "                                                cast  \\\n",
       "0  [{\"cast_id\": 242, \"character\": \"Jake Sully\", \"...   \n",
       "\n",
       "                                                crew  \n",
       "0  [{\"credit_id\": \"52fe48009251416c750aca23\", \"de...  "
      ]
     },
     "execution_count": 13,
     "metadata": {},
     "output_type": "execute_result"
    }
   ],
   "source": [
    "movies.head(1)"
   ]
  },
  {
   "cell_type": "code",
   "execution_count": 14,
   "id": "e44e160d",
   "metadata": {
    "id": "e44e160d"
   },
   "outputs": [],
   "source": [
    "movies['cast']=movies['cast'].apply(lambda x: convert(x)[:3])"
   ]
  },
  {
   "cell_type": "markdown",
   "id": "4a93f551",
   "metadata": {
    "id": "4a93f551"
   },
   "source": [
    "##  Function to process the crew who is only director"
   ]
  },
  {
   "cell_type": "code",
   "execution_count": 15,
   "id": "44fe6a5c",
   "metadata": {
    "id": "44fe6a5c",
    "outputId": "08ac3528-3cde-4587-eb11-5ff1686d2840"
   },
   "outputs": [
    {
     "data": {
      "text/plain": [
       "'[{\"credit_id\": \"553bef6a9251416874003c8f\", \"department\": \"Production\", \"gender\": 2, \"id\": 3276, \"job\": \"Casting\", \"name\": \"Roger Mussenden\"}, {\"credit_id\": \"553bee5592514135c800283e\", \"department\": \"Production\", \"gender\": 2, \"id\": 3805, \"job\": \"Producer\", \"name\": \"Jon Peters\"}, {\"credit_id\": \"52fe42f8c3a36847f8030bb1\", \"department\": \"Production\", \"gender\": 0, \"id\": 13192, \"job\": \"Production Manager\", \"name\": \"Diane Macke\"}, {\"credit_id\": \"553bee6692514157f0000b54\", \"department\": \"Production\", \"gender\": 2, \"id\": 10953, \"job\": \"Producer\", \"name\": \"Gilbert Adler\"}, {\"credit_id\": \"52fe42f8c3a36847f8030b6f\", \"department\": \"Directing\", \"gender\": 2, \"id\": 9032, \"job\": \"Director\", \"name\": \"Bryan Singer\"}, {\"credit_id\": \"52fe42f8c3a36847f8030b75\", \"department\": \"Production\", \"gender\": 2, \"id\": 9032, \"job\": \"Producer\", \"name\": \"Bryan Singer\"}, {\"credit_id\": \"553bee83c3a36820ec002201\", \"department\": \"Writing\", \"gender\": 2, \"id\": 9032, \"job\": \"Story\", \"name\": \"Bryan Singer\"}, {\"credit_id\": \"553bef4dc3a368784500af4a\", \"department\": \"Editing\", \"gender\": 2, \"id\": 9039, \"job\": \"Editor\", \"name\": \"John Ottman\"}, {\"credit_id\": \"52fe42f8c3a36847f8030b87\", \"department\": \"Sound\", \"gender\": 2, \"id\": 9039, \"job\": \"Original Music Composer\", \"name\": \"John Ottman\"}, {\"credit_id\": \"52fe42f8c3a36847f8030b81\", \"department\": \"Camera\", \"gender\": 0, \"id\": 9040, \"job\": \"Director of Photography\", \"name\": \"Newton Thomas Sigel\"}, {\"credit_id\": \"52fe42f8c3a36847f8030b7b\", \"department\": \"Writing\", \"gender\": 2, \"id\": 11012, \"job\": \"Screenplay\", \"name\": \"Michael Dougherty\"}, {\"credit_id\": \"553bee92925141275e005a32\", \"department\": \"Writing\", \"gender\": 2, \"id\": 11012, \"job\": \"Story\", \"name\": \"Michael Dougherty\"}, {\"credit_id\": \"553beeb59251413f5a0063aa\", \"department\": \"Writing\", \"gender\": 0, \"id\": 20007, \"job\": \"Characters\", \"name\": \"Jerry Siegel\"}, {\"credit_id\": \"553beec3c3a3685cf8005e69\", \"department\": \"Writing\", \"gender\": 0, \"id\": 20008, \"job\": \"Characters\", \"name\": \"Joe Shuster\"}, {\"credit_id\": \"553bef15c3a368784500af42\", \"department\": \"Production\", \"gender\": 2, \"id\": 21697, \"job\": \"Executive Producer\", \"name\": \"Chris Lee\"}, {\"credit_id\": \"553beef7925141275e005a3c\", \"department\": \"Production\", \"gender\": 0, \"id\": 54211, \"job\": \"Executive Producer\", \"name\": \"Thomas Tull\"}, {\"credit_id\": \"553bef06c3a36831dd00c699\", \"department\": \"Production\", \"gender\": 2, \"id\": 54212, \"job\": \"Executive Producer\", \"name\": \"William Fay\"}, {\"credit_id\": \"553bef3a9251412c270017fe\", \"department\": \"Editing\", \"gender\": 0, \"id\": 11017, \"job\": \"Editor\", \"name\": \"Elliot Graham\"}, {\"credit_id\": \"553bef22c3a36874620005d6\", \"department\": \"Production\", \"gender\": 2, \"id\": 60245, \"job\": \"Executive Producer\", \"name\": \"Scott Mednick\"}, {\"credit_id\": \"553bef5ac3a3683c4800288f\", \"department\": \"Production\", \"gender\": 1, \"id\": 61624, \"job\": \"Casting\", \"name\": \"Ann Robinson\"}, {\"credit_id\": \"553bee75c3a368784500af32\", \"department\": \"Writing\", \"gender\": 2, \"id\": 11013, \"job\": \"Screenplay\", \"name\": \"Dan Harris\"}, {\"credit_id\": \"553bee9fc3a36874620005c9\", \"department\": \"Writing\", \"gender\": 2, \"id\": 11013, \"job\": \"Story\", \"name\": \"Dan Harris\"}, {\"credit_id\": \"553beee8c3a36874620005cf\", \"department\": \"Production\", \"gender\": 0, \"id\": 1121617, \"job\": \"Co-Producer\", \"name\": \"Stephen Jones\"}, {\"credit_id\": \"553bf01dc3a36831dd00c6b1\", \"department\": \"Art\", \"gender\": 0, \"id\": 1271644, \"job\": \"Production Design\", \"name\": \"Guy Hendrix Dyas\"}]'"
      ]
     },
     "execution_count": 15,
     "metadata": {},
     "output_type": "execute_result"
    }
   ],
   "source": [
    "movies.iloc[10].crew"
   ]
  },
  {
   "cell_type": "code",
   "execution_count": 16,
   "id": "b6a4124e",
   "metadata": {
    "id": "b6a4124e"
   },
   "outputs": [],
   "source": [
    "def get_director(obj):\n",
    "    for i in ast.literal_eval(obj):\n",
    "        if i['job'] == 'Director':\n",
    "            return i['name']\n",
    "    return \"\""
   ]
  },
  {
   "cell_type": "code",
   "execution_count": 16,
   "id": "e207fdd5",
   "metadata": {
    "id": "e207fdd5",
    "outputId": "a6aec8ae-aca0-48eb-d7fd-aeeafa70eeec"
   },
   "outputs": [
    {
     "data": {
      "text/plain": [
       "'Bryan Singer'"
      ]
     },
     "execution_count": 16,
     "metadata": {},
     "output_type": "execute_result"
    }
   ],
   "source": [
    "get_director('[{\"credit_id\": \"553bef6a9251416874003c8f\", \"department\": \"Production\", \"gender\": 2, \"id\": 3276, \"job\": \"Casting\", \"name\": \"Roger Mussenden\"}, {\"credit_id\": \"553bee5592514135c800283e\", \"department\": \"Production\", \"gender\": 2, \"id\": 3805, \"job\": \"Producer\", \"name\": \"Jon Peters\"}, {\"credit_id\": \"52fe42f8c3a36847f8030bb1\", \"department\": \"Production\", \"gender\": 0, \"id\": 13192, \"job\": \"Production Manager\", \"name\": \"Diane Macke\"}, {\"credit_id\": \"553bee6692514157f0000b54\", \"department\": \"Production\", \"gender\": 2, \"id\": 10953, \"job\": \"Producer\", \"name\": \"Gilbert Adler\"}, {\"credit_id\": \"52fe42f8c3a36847f8030b6f\", \"department\": \"Directing\", \"gender\": 2, \"id\": 9032, \"job\": \"Director\", \"name\": \"Bryan Singer\"}, {\"credit_id\": \"52fe42f8c3a36847f8030b75\", \"department\": \"Production\", \"gender\": 2, \"id\": 9032, \"job\": \"Producer\", \"name\": \"Bryan Singer\"}, {\"credit_id\": \"553bee83c3a36820ec002201\", \"department\": \"Writing\", \"gender\": 2, \"id\": 9032, \"job\": \"Story\", \"name\": \"Bryan Singer\"}, {\"credit_id\": \"553bef4dc3a368784500af4a\", \"department\": \"Editing\", \"gender\": 2, \"id\": 9039, \"job\": \"Editor\", \"name\": \"John Ottman\"}, {\"credit_id\": \"52fe42f8c3a36847f8030b87\", \"department\": \"Sound\", \"gender\": 2, \"id\": 9039, \"job\": \"Original Music Composer\", \"name\": \"John Ottman\"}, {\"credit_id\": \"52fe42f8c3a36847f8030b81\", \"department\": \"Camera\", \"gender\": 0, \"id\": 9040, \"job\": \"Director of Photography\", \"name\": \"Newton Thomas Sigel\"}, {\"credit_id\": \"52fe42f8c3a36847f8030b7b\", \"department\": \"Writing\", \"gender\": 2, \"id\": 11012, \"job\": \"Screenplay\", \"name\": \"Michael Dougherty\"}, {\"credit_id\": \"553bee92925141275e005a32\", \"department\": \"Writing\", \"gender\": 2, \"id\": 11012, \"job\": \"Story\", \"name\": \"Michael Dougherty\"}, {\"credit_id\": \"553beeb59251413f5a0063aa\", \"department\": \"Writing\", \"gender\": 0, \"id\": 20007, \"job\": \"Characters\", \"name\": \"Jerry Siegel\"}, {\"credit_id\": \"553beec3c3a3685cf8005e69\", \"department\": \"Writing\", \"gender\": 0, \"id\": 20008, \"job\": \"Characters\", \"name\": \"Joe Shuster\"}, {\"credit_id\": \"553bef15c3a368784500af42\", \"department\": \"Production\", \"gender\": 2, \"id\": 21697, \"job\": \"Executive Producer\", \"name\": \"Chris Lee\"}, {\"credit_id\": \"553beef7925141275e005a3c\", \"department\": \"Production\", \"gender\": 0, \"id\": 54211, \"job\": \"Executive Producer\", \"name\": \"Thomas Tull\"}, {\"credit_id\": \"553bef06c3a36831dd00c699\", \"department\": \"Production\", \"gender\": 2, \"id\": 54212, \"job\": \"Executive Producer\", \"name\": \"William Fay\"}, {\"credit_id\": \"553bef3a9251412c270017fe\", \"department\": \"Editing\", \"gender\": 0, \"id\": 11017, \"job\": \"Editor\", \"name\": \"Elliot Graham\"}, {\"credit_id\": \"553bef22c3a36874620005d6\", \"department\": \"Production\", \"gender\": 2, \"id\": 60245, \"job\": \"Executive Producer\", \"name\": \"Scott Mednick\"}, {\"credit_id\": \"553bef5ac3a3683c4800288f\", \"department\": \"Production\", \"gender\": 1, \"id\": 61624, \"job\": \"Casting\", \"name\": \"Ann Robinson\"}, {\"credit_id\": \"553bee75c3a368784500af32\", \"department\": \"Writing\", \"gender\": 2, \"id\": 11013, \"job\": \"Screenplay\", \"name\": \"Dan Harris\"}, {\"credit_id\": \"553bee9fc3a36874620005c9\", \"department\": \"Writing\", \"gender\": 2, \"id\": 11013, \"job\": \"Story\", \"name\": \"Dan Harris\"}, {\"credit_id\": \"553beee8c3a36874620005cf\", \"department\": \"Production\", \"gender\": 0, \"id\": 1121617, \"job\": \"Co-Producer\", \"name\": \"Stephen Jones\"}, {\"credit_id\": \"553bf01dc3a36831dd00c6b1\", \"department\": \"Art\", \"gender\": 0, \"id\": 1271644, \"job\": \"Production Design\", \"name\": \"Guy Hendrix Dyas\"}]'\n",
    ")"
   ]
  },
  {
   "cell_type": "markdown",
   "id": "2e112151",
   "metadata": {
    "id": "2e112151"
   },
   "source": [
    "## Apply processing functions"
   ]
  },
  {
   "cell_type": "code",
   "execution_count": 17,
   "id": "d22ec28c",
   "metadata": {
    "id": "d22ec28c"
   },
   "outputs": [],
   "source": [
    "movies['crew'] = movies['crew'].apply(get_director)"
   ]
  },
  {
   "cell_type": "code",
   "execution_count": 18,
   "id": "fb20ff8b",
   "metadata": {
    "id": "fb20ff8b",
    "outputId": "05f5bb17-7ec5-4e87-8da6-a0d2cb53d0d6"
   },
   "outputs": [
    {
     "data": {
      "text/html": [
       "<div>\n",
       "<style scoped>\n",
       "    .dataframe tbody tr th:only-of-type {\n",
       "        vertical-align: middle;\n",
       "    }\n",
       "\n",
       "    .dataframe tbody tr th {\n",
       "        vertical-align: top;\n",
       "    }\n",
       "\n",
       "    .dataframe thead th {\n",
       "        text-align: right;\n",
       "    }\n",
       "</style>\n",
       "<table border=\"1\" class=\"dataframe\">\n",
       "  <thead>\n",
       "    <tr style=\"text-align: right;\">\n",
       "      <th></th>\n",
       "      <th>movie_id</th>\n",
       "      <th>title</th>\n",
       "      <th>overview</th>\n",
       "      <th>genres</th>\n",
       "      <th>keywords</th>\n",
       "      <th>cast</th>\n",
       "      <th>crew</th>\n",
       "    </tr>\n",
       "  </thead>\n",
       "  <tbody>\n",
       "    <tr>\n",
       "      <th>0</th>\n",
       "      <td>19995</td>\n",
       "      <td>Avatar</td>\n",
       "      <td>In the 22nd century, a paraplegic Marine is di...</td>\n",
       "      <td>[Action, Adventure, Fantasy, Science Fiction]</td>\n",
       "      <td>[culture clash, future, space war, space colon...</td>\n",
       "      <td>[Sam Worthington, Zoe Saldana, Sigourney Weaver]</td>\n",
       "      <td>James Cameron</td>\n",
       "    </tr>\n",
       "  </tbody>\n",
       "</table>\n",
       "</div>"
      ],
      "text/plain": [
       "   movie_id   title                                           overview  \\\n",
       "0     19995  Avatar  In the 22nd century, a paraplegic Marine is di...   \n",
       "\n",
       "                                          genres  \\\n",
       "0  [Action, Adventure, Fantasy, Science Fiction]   \n",
       "\n",
       "                                            keywords  \\\n",
       "0  [culture clash, future, space war, space colon...   \n",
       "\n",
       "                                               cast           crew  \n",
       "0  [Sam Worthington, Zoe Saldana, Sigourney Weaver]  James Cameron  "
      ]
     },
     "execution_count": 18,
     "metadata": {},
     "output_type": "execute_result"
    }
   ],
   "source": [
    "movies.head(1)"
   ]
  },
  {
   "cell_type": "markdown",
   "id": "95c2596d",
   "metadata": {
    "id": "95c2596d"
   },
   "source": [
    "### Remove spaces and lowercase everything for consistency"
   ]
  },
  {
   "cell_type": "code",
   "execution_count": 18,
   "id": "6255b026",
   "metadata": {
    "id": "6255b026"
   },
   "outputs": [],
   "source": [
    "movies['genres'] = movies['genres'].apply(lambda x: [i.replace(\" \", \"\").lower() for i in x])"
   ]
  },
  {
   "cell_type": "code",
   "execution_count": 19,
   "id": "4ced18a9",
   "metadata": {
    "id": "4ced18a9"
   },
   "outputs": [],
   "source": [
    "movies['keywords'] = movies['keywords'].apply(lambda x: [i.replace(\" \", \"\").lower() for i in x])\n",
    "movies['cast'] = movies['cast'].apply(lambda x: [i.replace(\" \", \"\").lower() for i in x])\n",
    "movies['crew'] = movies['crew'].apply(lambda x: x.replace(\" \", \"\").lower())"
   ]
  },
  {
   "cell_type": "code",
   "execution_count": 20,
   "id": "80c516dc",
   "metadata": {
    "id": "80c516dc",
    "outputId": "12107510-7c2d-4a51-f9d7-9afa0db58c6e"
   },
   "outputs": [
    {
     "data": {
      "text/html": [
       "<div>\n",
       "<style scoped>\n",
       "    .dataframe tbody tr th:only-of-type {\n",
       "        vertical-align: middle;\n",
       "    }\n",
       "\n",
       "    .dataframe tbody tr th {\n",
       "        vertical-align: top;\n",
       "    }\n",
       "\n",
       "    .dataframe thead th {\n",
       "        text-align: right;\n",
       "    }\n",
       "</style>\n",
       "<table border=\"1\" class=\"dataframe\">\n",
       "  <thead>\n",
       "    <tr style=\"text-align: right;\">\n",
       "      <th></th>\n",
       "      <th>movie_id</th>\n",
       "      <th>title</th>\n",
       "      <th>overview</th>\n",
       "      <th>genres</th>\n",
       "      <th>keywords</th>\n",
       "      <th>cast</th>\n",
       "      <th>crew</th>\n",
       "    </tr>\n",
       "  </thead>\n",
       "  <tbody>\n",
       "    <tr>\n",
       "      <th>0</th>\n",
       "      <td>19995</td>\n",
       "      <td>Avatar</td>\n",
       "      <td>In the 22nd century, a paraplegic Marine is di...</td>\n",
       "      <td>[action, adventure, fantasy, sciencefiction]</td>\n",
       "      <td>[cultureclash, future, spacewar, spacecolony, ...</td>\n",
       "      <td>[samworthington, zoesaldana, sigourneyweaver]</td>\n",
       "      <td>jamescameron</td>\n",
       "    </tr>\n",
       "  </tbody>\n",
       "</table>\n",
       "</div>"
      ],
      "text/plain": [
       "   movie_id   title                                           overview  \\\n",
       "0     19995  Avatar  In the 22nd century, a paraplegic Marine is di...   \n",
       "\n",
       "                                         genres  \\\n",
       "0  [action, adventure, fantasy, sciencefiction]   \n",
       "\n",
       "                                            keywords  \\\n",
       "0  [cultureclash, future, spacewar, spacecolony, ...   \n",
       "\n",
       "                                            cast          crew  \n",
       "0  [samworthington, zoesaldana, sigourneyweaver]  jamescameron  "
      ]
     },
     "execution_count": 20,
     "metadata": {},
     "output_type": "execute_result"
    }
   ],
   "source": [
    "movies.head(1)"
   ]
  },
  {
   "cell_type": "markdown",
   "id": "9828f5e1",
   "metadata": {
    "id": "9828f5e1"
   },
   "source": [
    "### Top 10 Genres by Movie Count"
   ]
  },
  {
   "cell_type": "code",
   "execution_count": 21,
   "id": "e49280f6",
   "metadata": {
    "id": "e49280f6",
    "outputId": "f5ad82b4-61e4-4db8-a5cd-6cc8764e8bf4"
   },
   "outputs": [
    {
     "data": {
      "image/png": "[encoded data removed]",
      "text/plain": [
       "<Figure size 1000x500 with 1 Axes>"
      ]
     },
     "metadata": {},
     "output_type": "display_data"
    }
   ],
   "source": [
    "genre_counts = movies.explode('genres')['genres'].value_counts().head(10)\n",
    "\n",
    "plt.figure(figsize=(10,5))\n",
    "genre_counts.plot(kind='bar', color='skyblue')\n",
    "plt.title('Top 10 Genres by Movie Count')\n",
    "plt.xlabel('Genre')\n",
    "plt.ylabel('Number of Movies')\n",
    "plt.xticks(rotation=45)\n",
    "plt.tight_layout()\n",
    "plt.show()"
   ]
  },
  {
   "cell_type": "markdown",
   "id": "a93adb90",
   "metadata": {
    "id": "a93adb90"
   },
   "source": [
    "### Top 10 Cast Members by Frequency"
   ]
  },
  {
   "cell_type": "code",
   "execution_count": 22,
   "id": "7df5b218",
   "metadata": {
    "id": "7df5b218",
    "outputId": "f39c1865-79e8-4b01-f607-36e445e6d637"
   },
   "outputs": [
    {
     "data": {
      "image/png": "[encoded data removed]",
      "text/plain": [
       "<Figure size 1000x500 with 1 Axes>"
      ]
     },
     "metadata": {},
     "output_type": "display_data"
    }
   ],
   "source": [
    "top_cast = movies.explode('cast')['cast'].value_counts().head(10)\n",
    "\n",
    "plt.figure(figsize=(10,5))\n",
    "top_cast.plot(kind='bar', color='orange')\n",
    "plt.title('Top 10 Cast Members (Most Frequent)')\n",
    "plt.xlabel('Actor')\n",
    "plt.ylabel('Number of Movies')\n",
    "plt.xticks(rotation=45)\n",
    "plt.tight_layout()\n",
    "plt.show()\n"
   ]
  },
  {
   "cell_type": "markdown",
   "id": "747bfa59",
   "metadata": {
    "id": "747bfa59"
   },
   "source": [
    "### Top 10 Directors"
   ]
  },
  {
   "cell_type": "code",
   "execution_count": 23,
   "id": "027d05f3",
   "metadata": {
    "id": "027d05f3",
    "outputId": "e78e6c9b-654a-4a77-b73c-96fe4aa2e809"
   },
   "outputs": [
    {
     "data": {
      "image/png": "[encoded data removed]",
      "text/plain": [
       "<Figure size 1000x500 with 1 Axes>"
      ]
     },
     "metadata": {},
     "output_type": "display_data"
    }
   ],
   "source": [
    "top_directors = movies['crew'].value_counts().head(10)\n",
    "\n",
    "plt.figure(figsize=(10,5))\n",
    "top_directors.plot(kind='bar', color='green')\n",
    "plt.title('Top 10 Directors by Number of Movies')\n",
    "plt.xlabel('Director')\n",
    "plt.ylabel('Number of Movies')\n",
    "plt.xticks(rotation=45)\n",
    "plt.tight_layout()\n",
    "plt.show()\n"
   ]
  },
  {
   "cell_type": "code",
   "execution_count": 24,
   "id": "31b8b87a",
   "metadata": {
    "id": "31b8b87a"
   },
   "outputs": [],
   "source": [
    "movies['overview']=movies['overview'].apply(lambda x:x.lower().split())"
   ]
  },
  {
   "cell_type": "code",
   "execution_count": 25,
   "id": "ee18df71",
   "metadata": {
    "id": "ee18df71",
    "outputId": "8cdea2ad-93c9-4f52-8494-55f1c188e465"
   },
   "outputs": [
    {
     "data": {
      "text/html": [
       "<div>\n",
       "<style scoped>\n",
       "    .dataframe tbody tr th:only-of-type {\n",
       "        vertical-align: middle;\n",
       "    }\n",
       "\n",
       "    .dataframe tbody tr th {\n",
       "        vertical-align: top;\n",
       "    }\n",
       "\n",
       "    .dataframe thead th {\n",
       "        text-align: right;\n",
       "    }\n",
       "</style>\n",
       "<table border=\"1\" class=\"dataframe\">\n",
       "  <thead>\n",
       "    <tr style=\"text-align: right;\">\n",
       "      <th></th>\n",
       "      <th>movie_id</th>\n",
       "      <th>title</th>\n",
       "      <th>overview</th>\n",
       "      <th>genres</th>\n",
       "      <th>keywords</th>\n",
       "      <th>cast</th>\n",
       "      <th>crew</th>\n",
       "    </tr>\n",
       "  </thead>\n",
       "  <tbody>\n",
       "    <tr>\n",
       "      <th>0</th>\n",
       "      <td>19995</td>\n",
       "      <td>Avatar</td>\n",
       "      <td>[in, the, 22nd, century,, a, paraplegic, marin...</td>\n",
       "      <td>[action, adventure, fantasy, sciencefiction]</td>\n",
       "      <td>[cultureclash, future, spacewar, spacecolony, ...</td>\n",
       "      <td>[samworthington, zoesaldana, sigourneyweaver]</td>\n",
       "      <td>jamescameron</td>\n",
       "    </tr>\n",
       "  </tbody>\n",
       "</table>\n",
       "</div>"
      ],
      "text/plain": [
       "   movie_id   title                                           overview  \\\n",
       "0     19995  Avatar  [in, the, 22nd, century,, a, paraplegic, marin...   \n",
       "\n",
       "                                         genres  \\\n",
       "0  [action, adventure, fantasy, sciencefiction]   \n",
       "\n",
       "                                            keywords  \\\n",
       "0  [cultureclash, future, spacewar, spacecolony, ...   \n",
       "\n",
       "                                            cast          crew  \n",
       "0  [samworthington, zoesaldana, sigourneyweaver]  jamescameron  "
      ]
     },
     "execution_count": 25,
     "metadata": {},
     "output_type": "execute_result"
    }
   ],
   "source": [
    "movies.head(1)"
   ]
  },
  {
   "cell_type": "markdown",
   "id": "2c631829",
   "metadata": {
    "id": "2c631829"
   },
   "source": [
    "## Create Tags Column"
   ]
  },
  {
   "cell_type": "code",
   "execution_count": 26,
   "id": "54e2870c",
   "metadata": {
    "id": "54e2870c"
   },
   "outputs": [],
   "source": [
    "movies['tags'] = (\n",
    "    movies['overview'] +\n",
    "    movies['genres'] +\n",
    "    movies['keywords'] +\n",
    "    movies['cast'] +\n",
    "    movies['crew'].apply(lambda x: [x])  # director as a list\n",
    ")"
   ]
  },
  {
   "cell_type": "code",
   "execution_count": 27,
   "id": "41996298",
   "metadata": {
    "id": "41996298",
    "outputId": "2ffadc21-bf80-4f59-a361-5be1358557c2"
   },
   "outputs": [
    {
     "data": {
      "text/plain": [
       "0       in the 22nd century, a paraplegic marine is di...\n",
       "1       captain barbossa, long believed to be dead, ha...\n",
       "2       a cryptic message from bond’s past sends him o...\n",
       "3       following the death of district attorney harve...\n",
       "4       john carter is a war-weary, former military ca...\n",
       "                              ...                        \n",
       "4804    el mariachi just wants to play his guitar and ...\n",
       "4805    a newlywed couple's honeymoon is upended by th...\n",
       "4806    \"signed, sealed, delivered\" introduces a dedic...\n",
       "4807    when ambitious new york attorney sam is sent t...\n",
       "4808    ever since the second grade when he first saw ...\n",
       "Name: tags, Length: 4806, dtype: object"
      ]
     },
     "execution_count": 27,
     "metadata": {},
     "output_type": "execute_result"
    }
   ],
   "source": [
    "movies['tags'].apply(lambda x: \" \".join(x))"
   ]
  },
  {
   "cell_type": "code",
   "execution_count": 28,
   "id": "6462d054",
   "metadata": {
    "id": "6462d054",
    "outputId": "718aeb9e-4595-4652-96f4-2d233cfed975"
   },
   "outputs": [
    {
     "data": {
      "text/plain": [
       "['in',\n",
       " 'the',\n",
       " '22nd',\n",
       " 'century,',\n",
       " 'a',\n",
       " 'paraplegic',\n",
       " 'marine',\n",
       " 'is',\n",
       " 'dispatched',\n",
       " 'to',\n",
       " 'the',\n",
       " 'moon',\n",
       " 'pandora',\n",
       " 'on',\n",
       " 'a',\n",
       " 'unique',\n",
       " 'mission,',\n",
       " 'but',\n",
       " 'becomes',\n",
       " 'torn',\n",
       " 'between',\n",
       " 'following',\n",
       " 'orders',\n",
       " 'and',\n",
       " 'protecting',\n",
       " 'an',\n",
       " 'alien',\n",
       " 'civilization.',\n",
       " 'action',\n",
       " 'adventure',\n",
       " 'fantasy',\n",
       " 'sciencefiction',\n",
       " 'cultureclash',\n",
       " 'future',\n",
       " 'spacewar',\n",
       " 'spacecolony',\n",
       " 'society',\n",
       " 'spacetravel',\n",
       " 'futuristic',\n",
       " 'romance',\n",
       " 'space',\n",
       " 'alien',\n",
       " 'tribe',\n",
       " 'alienplanet',\n",
       " 'cgi',\n",
       " 'marine',\n",
       " 'soldier',\n",
       " 'battle',\n",
       " 'loveaffair',\n",
       " 'antiwar',\n",
       " 'powerrelations',\n",
       " 'mindandsoul',\n",
       " '3d',\n",
       " 'samworthington',\n",
       " 'zoesaldana',\n",
       " 'sigourneyweaver',\n",
       " 'jamescameron']"
      ]
     },
     "execution_count": 28,
     "metadata": {},
     "output_type": "execute_result"
    }
   ],
   "source": [
    "movies.iloc[0].tags"
   ]
  },
  {
   "cell_type": "code",
   "execution_count": 29,
   "id": "caa59835",
   "metadata": {
    "id": "caa59835",
    "outputId": "534930f5-4786-4d14-9ccf-21bf54ece07e"
   },
   "outputs": [
    {
     "data": {
      "text/html": [
       "<div>\n",
       "<style scoped>\n",
       "    .dataframe tbody tr th:only-of-type {\n",
       "        vertical-align: middle;\n",
       "    }\n",
       "\n",
       "    .dataframe tbody tr th {\n",
       "        vertical-align: top;\n",
       "    }\n",
       "\n",
       "    .dataframe thead th {\n",
       "        text-align: right;\n",
       "    }\n",
       "</style>\n",
       "<table border=\"1\" class=\"dataframe\">\n",
       "  <thead>\n",
       "    <tr style=\"text-align: right;\">\n",
       "      <th></th>\n",
       "      <th>movie_id</th>\n",
       "      <th>title</th>\n",
       "      <th>overview</th>\n",
       "      <th>genres</th>\n",
       "      <th>keywords</th>\n",
       "      <th>cast</th>\n",
       "      <th>crew</th>\n",
       "      <th>tags</th>\n",
       "    </tr>\n",
       "  </thead>\n",
       "  <tbody>\n",
       "    <tr>\n",
       "      <th>0</th>\n",
       "      <td>19995</td>\n",
       "      <td>Avatar</td>\n",
       "      <td>[in, the, 22nd, century,, a, paraplegic, marin...</td>\n",
       "      <td>[action, adventure, fantasy, sciencefiction]</td>\n",
       "      <td>[cultureclash, future, spacewar, spacecolony, ...</td>\n",
       "      <td>[samworthington, zoesaldana, sigourneyweaver]</td>\n",
       "      <td>jamescameron</td>\n",
       "      <td>[in, the, 22nd, century,, a, paraplegic, marin...</td>\n",
       "    </tr>\n",
       "  </tbody>\n",
       "</table>\n",
       "</div>"
      ],
      "text/plain": [
       "   movie_id   title                                           overview  \\\n",
       "0     19995  Avatar  [in, the, 22nd, century,, a, paraplegic, marin...   \n",
       "\n",
       "                                         genres  \\\n",
       "0  [action, adventure, fantasy, sciencefiction]   \n",
       "\n",
       "                                            keywords  \\\n",
       "0  [cultureclash, future, spacewar, spacecolony, ...   \n",
       "\n",
       "                                            cast          crew  \\\n",
       "0  [samworthington, zoesaldana, sigourneyweaver]  jamescameron   \n",
       "\n",
       "                                                tags  \n",
       "0  [in, the, 22nd, century,, a, paraplegic, marin...  "
      ]
     },
     "execution_count": 29,
     "metadata": {},
     "output_type": "execute_result"
    }
   ],
   "source": [
    "movies.head(1)"
   ]
  },
  {
   "cell_type": "code",
   "execution_count": 30,
   "id": "ad4f1c1f",
   "metadata": {
    "id": "ad4f1c1f"
   },
   "outputs": [],
   "source": [
    "new_movies_list = movies.drop(columns=['overview','genres','keywords','cast','crew'])"
   ]
  },
  {
   "cell_type": "code",
   "execution_count": 31,
   "id": "526a0a48",
   "metadata": {
    "id": "526a0a48",
    "outputId": "09eaa846-43ae-4a8c-e09b-171a77730c36"
   },
   "outputs": [
    {
     "data": {
      "text/html": [
       "<div>\n",
       "<style scoped>\n",
       "    .dataframe tbody tr th:only-of-type {\n",
       "        vertical-align: middle;\n",
       "    }\n",
       "\n",
       "    .dataframe tbody tr th {\n",
       "        vertical-align: top;\n",
       "    }\n",
       "\n",
       "    .dataframe thead th {\n",
       "        text-align: right;\n",
       "    }\n",
       "</style>\n",
       "<table border=\"1\" class=\"dataframe\">\n",
       "  <thead>\n",
       "    <tr style=\"text-align: right;\">\n",
       "      <th></th>\n",
       "      <th>movie_id</th>\n",
       "      <th>title</th>\n",
       "      <th>tags</th>\n",
       "    </tr>\n",
       "  </thead>\n",
       "  <tbody>\n",
       "    <tr>\n",
       "      <th>0</th>\n",
       "      <td>19995</td>\n",
       "      <td>Avatar</td>\n",
       "      <td>[in, the, 22nd, century,, a, paraplegic, marin...</td>\n",
       "    </tr>\n",
       "    <tr>\n",
       "      <th>1</th>\n",
       "      <td>285</td>\n",
       "      <td>Pirates of the Caribbean: At World's End</td>\n",
       "      <td>[captain, barbossa,, long, believed, to, be, d...</td>\n",
       "    </tr>\n",
       "    <tr>\n",
       "      <th>2</th>\n",
       "      <td>206647</td>\n",
       "      <td>Spectre</td>\n",
       "      <td>[a, cryptic, message, from, bond’s, past, send...</td>\n",
       "    </tr>\n",
       "    <tr>\n",
       "      <th>3</th>\n",
       "      <td>49026</td>\n",
       "      <td>The Dark Knight Rises</td>\n",
       "      <td>[following, the, death, of, district, attorney...</td>\n",
       "    </tr>\n",
       "  </tbody>\n",
       "</table>\n",
       "</div>"
      ],
      "text/plain": [
       "   movie_id                                     title  \\\n",
       "0     19995                                    Avatar   \n",
       "1       285  Pirates of the Caribbean: At World's End   \n",
       "2    206647                                   Spectre   \n",
       "3     49026                     The Dark Knight Rises   \n",
       "\n",
       "                                                tags  \n",
       "0  [in, the, 22nd, century,, a, paraplegic, marin...  \n",
       "1  [captain, barbossa,, long, believed, to, be, d...  \n",
       "2  [a, cryptic, message, from, bond’s, past, send...  \n",
       "3  [following, the, death, of, district, attorney...  "
      ]
     },
     "execution_count": 31,
     "metadata": {},
     "output_type": "execute_result"
    }
   ],
   "source": [
    "new_movies_list.head(4)"
   ]
  },
  {
   "cell_type": "code",
   "execution_count": 32,
   "id": "44d84cb1",
   "metadata": {
    "id": "44d84cb1"
   },
   "outputs": [],
   "source": [
    "new_movies_list['tags'] =new_movies_list['tags'].apply(lambda x: \" \".join(x))"
   ]
  },
  {
   "cell_type": "markdown",
   "id": "69900fe2",
   "metadata": {
    "id": "69900fe2"
   },
   "source": [
    "## Content-Based Filtering"
   ]
  },
  {
   "cell_type": "code",
   "execution_count": 33,
   "id": "744022f3",
   "metadata": {
    "id": "744022f3"
   },
   "outputs": [],
   "source": [
    "from sklearn.feature_extraction.text import TfidfVectorizer\n",
    "from sklearn.metrics.pairwise import cosine_similarity"
   ]
  },
  {
   "cell_type": "code",
   "execution_count": 34,
   "id": "32fc4872",
   "metadata": {
    "id": "32fc4872"
   },
   "outputs": [],
   "source": [
    "# Vectorization\n",
    "vectorizer = TfidfVectorizer(max_features=5000, stop_words='english')\n"
   ]
  },
  {
   "cell_type": "code",
   "execution_count": 35,
   "id": "74875197",
   "metadata": {
    "id": "74875197"
   },
   "outputs": [],
   "source": [
    "vectors = vectorizer.fit_transform(new_movies_list['tags']).toarray()"
   ]
  },
  {
   "cell_type": "code",
   "execution_count": 36,
   "id": "240a76e9",
   "metadata": {
    "id": "240a76e9"
   },
   "outputs": [],
   "source": [
    "# Similarity matrix\n",
    "similarity = cosine_similarity(vectors)"
   ]
  },
  {
   "cell_type": "markdown",
   "id": "faf4aafc",
   "metadata": {
    "id": "faf4aafc"
   },
   "source": [
    "### Recommendation Function"
   ]
  },
  {
   "cell_type": "code",
   "execution_count": 37,
   "id": "065608dd",
   "metadata": {
    "id": "065608dd"
   },
   "outputs": [],
   "source": [
    "def recommend(movie_title):\n",
    "    try:\n",
    "        idx = new_movies_list[new_movies_list['title'] == movie_title].index[0]\n",
    "    except IndexError:\n",
    "        print(f\"Movie '{movie_title}' not found in dataset.\")\n",
    "        return\n",
    "\n",
    "    distances = list(enumerate(similarity[idx]))\n",
    "    sorted_distances = sorted(distances, key=lambda x: x[1], reverse=True)[1:6]\n",
    "\n",
    "    print(f\"\\n📽️ Recommended for '{movie_title}':\")\n",
    "    for i in sorted_distances:\n",
    "        print(\"→\", movies.iloc[i[0]].title)\n"
   ]
  },
  {
   "cell_type": "code",
   "execution_count": 38,
   "id": "7637b174",
   "metadata": {
    "id": "7637b174",
    "outputId": "c1b91cc4-2d27-4dd6-ad3f-02ce65ec5d7c"
   },
   "outputs": [
    {
     "data": {
      "text/html": [
       "<div>\n",
       "<style scoped>\n",
       "    .dataframe tbody tr th:only-of-type {\n",
       "        vertical-align: middle;\n",
       "    }\n",
       "\n",
       "    .dataframe tbody tr th {\n",
       "        vertical-align: top;\n",
       "    }\n",
       "\n",
       "    .dataframe thead th {\n",
       "        text-align: right;\n",
       "    }\n",
       "</style>\n",
       "<table border=\"1\" class=\"dataframe\">\n",
       "  <thead>\n",
       "    <tr style=\"text-align: right;\">\n",
       "      <th></th>\n",
       "      <th>movie_id</th>\n",
       "      <th>title</th>\n",
       "      <th>tags</th>\n",
       "    </tr>\n",
       "  </thead>\n",
       "  <tbody>\n",
       "    <tr>\n",
       "      <th>0</th>\n",
       "      <td>19995</td>\n",
       "      <td>Avatar</td>\n",
       "      <td>in the 22nd century, a paraplegic marine is di...</td>\n",
       "    </tr>\n",
       "    <tr>\n",
       "      <th>1</th>\n",
       "      <td>285</td>\n",
       "      <td>Pirates of the Caribbean: At World's End</td>\n",
       "      <td>captain barbossa, long believed to be dead, ha...</td>\n",
       "    </tr>\n",
       "    <tr>\n",
       "      <th>2</th>\n",
       "      <td>206647</td>\n",
       "      <td>Spectre</td>\n",
       "      <td>a cryptic message from bond’s past sends him o...</td>\n",
       "    </tr>\n",
       "    <tr>\n",
       "      <th>3</th>\n",
       "      <td>49026</td>\n",
       "      <td>The Dark Knight Rises</td>\n",
       "      <td>following the death of district attorney harve...</td>\n",
       "    </tr>\n",
       "    <tr>\n",
       "      <th>4</th>\n",
       "      <td>49529</td>\n",
       "      <td>John Carter</td>\n",
       "      <td>john carter is a war-weary, former military ca...</td>\n",
       "    </tr>\n",
       "    <tr>\n",
       "      <th>5</th>\n",
       "      <td>559</td>\n",
       "      <td>Spider-Man 3</td>\n",
       "      <td>the seemingly invincible spider-man goes up ag...</td>\n",
       "    </tr>\n",
       "    <tr>\n",
       "      <th>6</th>\n",
       "      <td>38757</td>\n",
       "      <td>Tangled</td>\n",
       "      <td>when the kingdom's most wanted-and most charmi...</td>\n",
       "    </tr>\n",
       "    <tr>\n",
       "      <th>7</th>\n",
       "      <td>99861</td>\n",
       "      <td>Avengers: Age of Ultron</td>\n",
       "      <td>when tony stark tries to jumpstart a dormant p...</td>\n",
       "    </tr>\n",
       "    <tr>\n",
       "      <th>8</th>\n",
       "      <td>767</td>\n",
       "      <td>Harry Potter and the Half-Blood Prince</td>\n",
       "      <td>as harry begins his sixth year at hogwarts, he...</td>\n",
       "    </tr>\n",
       "    <tr>\n",
       "      <th>9</th>\n",
       "      <td>209112</td>\n",
       "      <td>Batman v Superman: Dawn of Justice</td>\n",
       "      <td>fearing the actions of a god-like super hero l...</td>\n",
       "    </tr>\n",
       "    <tr>\n",
       "      <th>10</th>\n",
       "      <td>1452</td>\n",
       "      <td>Superman Returns</td>\n",
       "      <td>superman returns to discover his 5-year absenc...</td>\n",
       "    </tr>\n",
       "    <tr>\n",
       "      <th>11</th>\n",
       "      <td>10764</td>\n",
       "      <td>Quantum of Solace</td>\n",
       "      <td>quantum of solace continues the adventures of ...</td>\n",
       "    </tr>\n",
       "    <tr>\n",
       "      <th>12</th>\n",
       "      <td>58</td>\n",
       "      <td>Pirates of the Caribbean: Dead Man's Chest</td>\n",
       "      <td>captain jack sparrow works his way out of a bl...</td>\n",
       "    </tr>\n",
       "    <tr>\n",
       "      <th>13</th>\n",
       "      <td>57201</td>\n",
       "      <td>The Lone Ranger</td>\n",
       "      <td>the texas rangers chase down a gang of outlaws...</td>\n",
       "    </tr>\n",
       "    <tr>\n",
       "      <th>14</th>\n",
       "      <td>49521</td>\n",
       "      <td>Man of Steel</td>\n",
       "      <td>a young boy learns that he has extraordinary p...</td>\n",
       "    </tr>\n",
       "    <tr>\n",
       "      <th>15</th>\n",
       "      <td>2454</td>\n",
       "      <td>The Chronicles of Narnia: Prince Caspian</td>\n",
       "      <td>one year after their incredible adventures in ...</td>\n",
       "    </tr>\n",
       "    <tr>\n",
       "      <th>16</th>\n",
       "      <td>24428</td>\n",
       "      <td>The Avengers</td>\n",
       "      <td>when an unexpected enemy emerges and threatens...</td>\n",
       "    </tr>\n",
       "    <tr>\n",
       "      <th>17</th>\n",
       "      <td>1865</td>\n",
       "      <td>Pirates of the Caribbean: On Stranger Tides</td>\n",
       "      <td>captain jack sparrow crosses paths with a woma...</td>\n",
       "    </tr>\n",
       "    <tr>\n",
       "      <th>18</th>\n",
       "      <td>41154</td>\n",
       "      <td>Men in Black 3</td>\n",
       "      <td>agents j (will smith) and k (tommy lee jones) ...</td>\n",
       "    </tr>\n",
       "    <tr>\n",
       "      <th>19</th>\n",
       "      <td>122917</td>\n",
       "      <td>The Hobbit: The Battle of the Five Armies</td>\n",
       "      <td>immediately after the events of the desolation...</td>\n",
       "    </tr>\n",
       "  </tbody>\n",
       "</table>\n",
       "</div>"
      ],
      "text/plain": [
       "    movie_id                                        title  \\\n",
       "0      19995                                       Avatar   \n",
       "1        285     Pirates of the Caribbean: At World's End   \n",
       "2     206647                                      Spectre   \n",
       "3      49026                        The Dark Knight Rises   \n",
       "4      49529                                  John Carter   \n",
       "5        559                                 Spider-Man 3   \n",
       "6      38757                                      Tangled   \n",
       "7      99861                      Avengers: Age of Ultron   \n",
       "8        767       Harry Potter and the Half-Blood Prince   \n",
       "9     209112           Batman v Superman: Dawn of Justice   \n",
       "10      1452                             Superman Returns   \n",
       "11     10764                            Quantum of Solace   \n",
       "12        58   Pirates of the Caribbean: Dead Man's Chest   \n",
       "13     57201                              The Lone Ranger   \n",
       "14     49521                                 Man of Steel   \n",
       "15      2454     The Chronicles of Narnia: Prince Caspian   \n",
       "16     24428                                 The Avengers   \n",
       "17      1865  Pirates of the Caribbean: On Stranger Tides   \n",
       "18     41154                               Men in Black 3   \n",
       "19    122917    The Hobbit: The Battle of the Five Armies   \n",
       "\n",
       "                                                 tags  \n",
       "0   in the 22nd century, a paraplegic marine is di...  \n",
       "1   captain barbossa, long believed to be dead, ha...  \n",
       "2   a cryptic message from bond’s past sends him o...  \n",
       "3   following the death of district attorney harve...  \n",
       "4   john carter is a war-weary, former military ca...  \n",
       "5   the seemingly invincible spider-man goes up ag...  \n",
       "6   when the kingdom's most wanted-and most charmi...  \n",
       "7   when tony stark tries to jumpstart a dormant p...  \n",
       "8   as harry begins his sixth year at hogwarts, he...  \n",
       "9   fearing the actions of a god-like super hero l...  \n",
       "10  superman returns to discover his 5-year absenc...  \n",
       "11  quantum of solace continues the adventures of ...  \n",
       "12  captain jack sparrow works his way out of a bl...  \n",
       "13  the texas rangers chase down a gang of outlaws...  \n",
       "14  a young boy learns that he has extraordinary p...  \n",
       "15  one year after their incredible adventures in ...  \n",
       "16  when an unexpected enemy emerges and threatens...  \n",
       "17  captain jack sparrow crosses paths with a woma...  \n",
       "18  agents j (will smith) and k (tommy lee jones) ...  \n",
       "19  immediately after the events of the desolation...  "
      ]
     },
     "execution_count": 38,
     "metadata": {},
     "output_type": "execute_result"
    }
   ],
   "source": [
    "new_movies_list.head(20)"
   ]
  },
  {
   "cell_type": "code",
   "execution_count": 42,
   "id": "71eec303",
   "metadata": {
    "id": "71eec303",
    "outputId": "06d20fbf-1395-496b-b442-0f13ce7b6d81"
   },
   "outputs": [
    {
     "name": "stdout",
     "output_type": "stream",
     "text": [
      "\n",
      "📽️ Recommended for 'Inception':\n",
      "→ Don Jon\n",
      "→ Premium Rush\n",
      "→ Cypher\n",
      "→ Hesher\n",
      "→ Duplex\n"
     ]
    }
   ],
   "source": [
    "recommend(\"Inception\")"
   ]
  },
  {
   "cell_type": "code",
   "execution_count": 42,
   "id": "367081e0",
   "metadata": {
    "id": "367081e0",
    "outputId": "ac84336f-5fb0-4115-b009-14d1ebf530f8"
   },
   "outputs": [
    {
     "data": {
      "text/plain": [
       "\"immediately after the events of the desolation of smaug, bilbo and the dwarves try to defend erebor's mountain of treasure from others who claim it: the men of the ruined laketown and the elves of mirkwood. meanwhile an army of orcs led by azog the defiler is marching on erebor, fueled by the rise of the dark lord sauron. dwarves, elves and men must unite, and the hope for middle-earth falls into bilbo's hands. action adventure fantasy corruption elves dwarves orcs middle-earth(tolkien) hobbit dragon battle unlikelyfriendship epicbattle swordandsorcery martinfreeman ianmckellen richardarmitage peterjackson\""
      ]
     },
     "execution_count": 42,
     "metadata": {},
     "output_type": "execute_result"
    }
   ],
   "source": [
    "new_movies_list.iloc[19].tags"
   ]
  },
  {
   "cell_type": "code",
   "execution_count": 40,
   "id": "a8fb70d1",
   "metadata": {
    "id": "a8fb70d1"
   },
   "outputs": [],
   "source": [
    "import pickle"
   ]
  },
  {
   "cell_type": "code",
   "execution_count": 41,
   "id": "2de9d3c9",
   "metadata": {
    "id": "2de9d3c9"
   },
   "outputs": [],
   "source": [
    "pickle.dump(new_movies_list,open('../models/movie_list.pkl','wb'))\n",
    "pickle.dump(similarity,open('../models/similarity_books.pkl','wb'))"
   ]
  }
 ],
 "metadata": {
  "colab": {
   "provenance": []
  },
  "kernelspec": {
   "display_name": "venv",
   "language": "python",
   "name": "python3"
  },
  "language_info": {
   "codemirror_mode": {
    "name": "ipython",
    "version": 3
   },
   "file_extension": ".py",
   "mimetype": "text/x-python",
   "name": "python",
   "nbconvert_exporter": "python",
   "pygments_lexer": "ipython3",
   "version": "3.13.0"
  }
 },
 "nbformat": 4,
 "nbformat_minor": 5
}
